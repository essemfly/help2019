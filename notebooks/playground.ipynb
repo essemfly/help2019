{
 "cells": [
  {
   "cell_type": "code",
   "execution_count": 63,
   "metadata": {},
   "outputs": [],
   "source": [
    "import pandas as pd\n",
    "import numpy as np\n",
    "import torch"
   ]
  },
  {
   "cell_type": "code",
   "execution_count": 64,
   "metadata": {},
   "outputs": [
    {
     "data": {
      "text/plain": [
       "array([ 89,  85, 110,  90, 106, 113, 112,  92, 117,  70])"
      ]
     },
     "execution_count": 64,
     "metadata": {},
     "output_type": "execute_result"
    }
   ],
   "source": [
    "np.random.poisson(100, 10)"
   ]
  },
  {
   "cell_type": "code",
   "execution_count": 65,
   "metadata": {},
   "outputs": [],
   "source": [
    "o_df = pd.read_csv(\"../sample/OUTCOME_COHORT.csv\")"
   ]
  },
  {
   "cell_type": "code",
   "execution_count": 66,
   "metadata": {},
   "outputs": [
    {
     "data": {
      "text/html": [
       "<div>\n",
       "<style>\n",
       "    .dataframe thead tr:only-child th {\n",
       "        text-align: right;\n",
       "    }\n",
       "\n",
       "    .dataframe thead th {\n",
       "        text-align: left;\n",
       "    }\n",
       "\n",
       "    .dataframe tbody tr th {\n",
       "        vertical-align: top;\n",
       "    }\n",
       "</style>\n",
       "<table border=\"1\" class=\"dataframe\">\n",
       "  <thead>\n",
       "    <tr style=\"text-align: right;\">\n",
       "      <th></th>\n",
       "      <th>COHORT_DEFINITION_ID</th>\n",
       "      <th>SUBJECT_ID</th>\n",
       "      <th>COHORT_START_DATE</th>\n",
       "      <th>COHORT_END_DATE</th>\n",
       "      <th>LABEL</th>\n",
       "    </tr>\n",
       "  </thead>\n",
       "  <tbody>\n",
       "    <tr>\n",
       "      <th>0</th>\n",
       "      <td>1</td>\n",
       "      <td>47715145949628715</td>\n",
       "      <td>2036-04-11 10:04:00</td>\n",
       "      <td>2036-04-11 11:00:00</td>\n",
       "      <td>0</td>\n",
       "    </tr>\n",
       "    <tr>\n",
       "      <th>1</th>\n",
       "      <td>1</td>\n",
       "      <td>47715145949628715</td>\n",
       "      <td>2036-04-11 10:04:00</td>\n",
       "      <td>2036-04-11 12:00:00</td>\n",
       "      <td>0</td>\n",
       "    </tr>\n",
       "    <tr>\n",
       "      <th>2</th>\n",
       "      <td>1</td>\n",
       "      <td>47715145949628715</td>\n",
       "      <td>2036-04-11 10:04:00</td>\n",
       "      <td>2036-04-11 13:00:00</td>\n",
       "      <td>0</td>\n",
       "    </tr>\n",
       "    <tr>\n",
       "      <th>3</th>\n",
       "      <td>1</td>\n",
       "      <td>47715145949628715</td>\n",
       "      <td>2036-04-11 10:04:00</td>\n",
       "      <td>2036-04-11 14:00:00</td>\n",
       "      <td>0</td>\n",
       "    </tr>\n",
       "    <tr>\n",
       "      <th>4</th>\n",
       "      <td>1</td>\n",
       "      <td>47715145949628715</td>\n",
       "      <td>2036-04-11 10:04:00</td>\n",
       "      <td>2036-04-11 15:00:00</td>\n",
       "      <td>0</td>\n",
       "    </tr>\n",
       "  </tbody>\n",
       "</table>\n",
       "</div>"
      ],
      "text/plain": [
       "   COHORT_DEFINITION_ID         SUBJECT_ID    COHORT_START_DATE  \\\n",
       "0                     1  47715145949628715  2036-04-11 10:04:00   \n",
       "1                     1  47715145949628715  2036-04-11 10:04:00   \n",
       "2                     1  47715145949628715  2036-04-11 10:04:00   \n",
       "3                     1  47715145949628715  2036-04-11 10:04:00   \n",
       "4                     1  47715145949628715  2036-04-11 10:04:00   \n",
       "\n",
       "       COHORT_END_DATE  LABEL  \n",
       "0  2036-04-11 11:00:00      0  \n",
       "1  2036-04-11 12:00:00      0  \n",
       "2  2036-04-11 13:00:00      0  \n",
       "3  2036-04-11 14:00:00      0  \n",
       "4  2036-04-11 15:00:00      0  "
      ]
     },
     "execution_count": 66,
     "metadata": {},
     "output_type": "execute_result"
    }
   ],
   "source": [
    "o_df.head(5)"
   ]
  },
  {
   "cell_type": "code",
   "execution_count": 71,
   "metadata": {},
   "outputs": [],
   "source": [
    "m = torch.distributions.normal.Normal(0.3, 0.1)\n",
    "m_list = m.sample([len(o_df)]).tolist()"
   ]
  },
  {
   "cell_type": "code",
   "execution_count": 72,
   "metadata": {},
   "outputs": [],
   "source": [
    "o_df[\"LABEL_PROBABILITY\"] = m_list"
   ]
  },
  {
   "cell_type": "code",
   "execution_count": 75,
   "metadata": {},
   "outputs": [],
   "source": [
    "o_df.loc[o_df[\"LABEL_PROBABILITY\"] > 0.5, \"LABEL\"] = 1\n",
    "o_df.loc[o_df[\"LABEL_PROBABILITY\"] <= 0.5, \"LABEL\"] = 0"
   ]
  },
  {
   "cell_type": "code",
   "execution_count": 76,
   "metadata": {},
   "outputs": [
    {
     "data": {
      "text/html": [
       "<div>\n",
       "<style>\n",
       "    .dataframe thead tr:only-child th {\n",
       "        text-align: right;\n",
       "    }\n",
       "\n",
       "    .dataframe thead th {\n",
       "        text-align: left;\n",
       "    }\n",
       "\n",
       "    .dataframe tbody tr th {\n",
       "        vertical-align: top;\n",
       "    }\n",
       "</style>\n",
       "<table border=\"1\" class=\"dataframe\">\n",
       "  <thead>\n",
       "    <tr style=\"text-align: right;\">\n",
       "      <th></th>\n",
       "      <th>COHORT_DEFINITION_ID</th>\n",
       "      <th>SUBJECT_ID</th>\n",
       "      <th>COHORT_START_DATE</th>\n",
       "      <th>COHORT_END_DATE</th>\n",
       "      <th>LABEL</th>\n",
       "      <th>LABEL_PROBABILITY</th>\n",
       "    </tr>\n",
       "  </thead>\n",
       "  <tbody>\n",
       "    <tr>\n",
       "      <th>0</th>\n",
       "      <td>1</td>\n",
       "      <td>47715145949628715</td>\n",
       "      <td>2036-04-11 10:04:00</td>\n",
       "      <td>2036-04-11 11:00:00</td>\n",
       "      <td>0</td>\n",
       "      <td>0.361860</td>\n",
       "    </tr>\n",
       "    <tr>\n",
       "      <th>1</th>\n",
       "      <td>1</td>\n",
       "      <td>47715145949628715</td>\n",
       "      <td>2036-04-11 10:04:00</td>\n",
       "      <td>2036-04-11 12:00:00</td>\n",
       "      <td>0</td>\n",
       "      <td>0.434074</td>\n",
       "    </tr>\n",
       "    <tr>\n",
       "      <th>2</th>\n",
       "      <td>1</td>\n",
       "      <td>47715145949628715</td>\n",
       "      <td>2036-04-11 10:04:00</td>\n",
       "      <td>2036-04-11 13:00:00</td>\n",
       "      <td>0</td>\n",
       "      <td>0.485477</td>\n",
       "    </tr>\n",
       "    <tr>\n",
       "      <th>3</th>\n",
       "      <td>1</td>\n",
       "      <td>47715145949628715</td>\n",
       "      <td>2036-04-11 10:04:00</td>\n",
       "      <td>2036-04-11 14:00:00</td>\n",
       "      <td>1</td>\n",
       "      <td>0.553910</td>\n",
       "    </tr>\n",
       "    <tr>\n",
       "      <th>4</th>\n",
       "      <td>1</td>\n",
       "      <td>47715145949628715</td>\n",
       "      <td>2036-04-11 10:04:00</td>\n",
       "      <td>2036-04-11 15:00:00</td>\n",
       "      <td>1</td>\n",
       "      <td>0.528525</td>\n",
       "    </tr>\n",
       "    <tr>\n",
       "      <th>5</th>\n",
       "      <td>1</td>\n",
       "      <td>47715145949628715</td>\n",
       "      <td>2036-04-11 10:04:00</td>\n",
       "      <td>2036-04-11 16:00:00</td>\n",
       "      <td>1</td>\n",
       "      <td>0.511946</td>\n",
       "    </tr>\n",
       "    <tr>\n",
       "      <th>6</th>\n",
       "      <td>1</td>\n",
       "      <td>47715145949628715</td>\n",
       "      <td>2036-04-11 10:04:00</td>\n",
       "      <td>2036-04-11 17:00:00</td>\n",
       "      <td>1</td>\n",
       "      <td>0.512680</td>\n",
       "    </tr>\n",
       "    <tr>\n",
       "      <th>7</th>\n",
       "      <td>1</td>\n",
       "      <td>47715145949628715</td>\n",
       "      <td>2036-04-11 10:04:00</td>\n",
       "      <td>2036-04-11 18:00:00</td>\n",
       "      <td>0</td>\n",
       "      <td>0.440657</td>\n",
       "    </tr>\n",
       "    <tr>\n",
       "      <th>8</th>\n",
       "      <td>1</td>\n",
       "      <td>47715145949628715</td>\n",
       "      <td>2036-04-11 10:04:00</td>\n",
       "      <td>2036-04-11 19:00:00</td>\n",
       "      <td>0</td>\n",
       "      <td>0.399587</td>\n",
       "    </tr>\n",
       "    <tr>\n",
       "      <th>9</th>\n",
       "      <td>1</td>\n",
       "      <td>47715145949628715</td>\n",
       "      <td>2036-04-11 10:04:00</td>\n",
       "      <td>2036-04-11 20:00:00</td>\n",
       "      <td>1</td>\n",
       "      <td>0.525257</td>\n",
       "    </tr>\n",
       "  </tbody>\n",
       "</table>\n",
       "</div>"
      ],
      "text/plain": [
       "   COHORT_DEFINITION_ID         SUBJECT_ID    COHORT_START_DATE  \\\n",
       "0                     1  47715145949628715  2036-04-11 10:04:00   \n",
       "1                     1  47715145949628715  2036-04-11 10:04:00   \n",
       "2                     1  47715145949628715  2036-04-11 10:04:00   \n",
       "3                     1  47715145949628715  2036-04-11 10:04:00   \n",
       "4                     1  47715145949628715  2036-04-11 10:04:00   \n",
       "5                     1  47715145949628715  2036-04-11 10:04:00   \n",
       "6                     1  47715145949628715  2036-04-11 10:04:00   \n",
       "7                     1  47715145949628715  2036-04-11 10:04:00   \n",
       "8                     1  47715145949628715  2036-04-11 10:04:00   \n",
       "9                     1  47715145949628715  2036-04-11 10:04:00   \n",
       "\n",
       "       COHORT_END_DATE  LABEL  LABEL_PROBABILITY  \n",
       "0  2036-04-11 11:00:00      0           0.361860  \n",
       "1  2036-04-11 12:00:00      0           0.434074  \n",
       "2  2036-04-11 13:00:00      0           0.485477  \n",
       "3  2036-04-11 14:00:00      1           0.553910  \n",
       "4  2036-04-11 15:00:00      1           0.528525  \n",
       "5  2036-04-11 16:00:00      1           0.511946  \n",
       "6  2036-04-11 17:00:00      1           0.512680  \n",
       "7  2036-04-11 18:00:00      0           0.440657  \n",
       "8  2036-04-11 19:00:00      0           0.399587  \n",
       "9  2036-04-11 20:00:00      1           0.525257  "
      ]
     },
     "execution_count": 76,
     "metadata": {},
     "output_type": "execute_result"
    }
   ],
   "source": [
    "o_df.head(10)"
   ]
  },
  {
   "cell_type": "code",
   "execution_count": null,
   "metadata": {},
   "outputs": [],
   "source": []
  }
 ],
 "metadata": {
  "kernelspec": {
   "display_name": "Python 3",
   "language": "python",
   "name": "python3"
  },
  "language_info": {
   "codemirror_mode": {
    "name": "ipython",
    "version": 3
   },
   "file_extension": ".py",
   "mimetype": "text/x-python",
   "name": "python",
   "nbconvert_exporter": "python",
   "pygments_lexer": "ipython3",
   "version": "3.6.8"
  }
 },
 "nbformat": 4,
 "nbformat_minor": 4
}
